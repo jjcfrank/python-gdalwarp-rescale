{
 "metadata": {
  "language_info": {
   "codemirror_mode": {
    "name": "ipython",
    "version": 3
   },
   "file_extension": ".py",
   "mimetype": "text/x-python",
   "name": "python",
   "nbconvert_exporter": "python",
   "pygments_lexer": "ipython3",
   "version": "3.9.2-final"
  },
  "orig_nbformat": 2,
  "kernelspec": {
   "name": "python39264bitd68eaf7eead948c3a28b1f1f5e509b88",
   "display_name": "Python 3.9.2 64-bit",
   "language": "python"
  }
 },
 "nbformat": 4,
 "nbformat_minor": 2,
 "cells": [
  {
   "cell_type": "code",
   "execution_count": 117,
   "metadata": {},
   "outputs": [],
   "source": [
    "from osgeo import gdal\n",
    "import numpy as numpy"
   ]
  },
  {
   "cell_type": "code",
   "execution_count": 118,
   "metadata": {},
   "outputs": [],
   "source": [
    "#Upload raster\n",
    "rasterComp = gdal.Open(\"raster.tif\")"
   ]
  },
  {
   "cell_type": "code",
   "execution_count": 119,
   "metadata": {},
   "outputs": [
    {
     "output_type": "stream",
     "name": "stdout",
     "text": [
      "Check resolution of original raster:\n(-75.000239819, 0.00011989437559198598, 0.0, 41.55184467, 0.0, -8.93927443926073e-05)\n\nCheck other options such as SRS:\nGEOGCS[\"WGS 84\",DATUM[\"WGS_1984\",SPHEROID[\"WGS 84\",6378137,298.257223563,AUTHORITY[\"EPSG\",\"7030\"]],AUTHORITY[\"EPSG\",\"6326\"]],PRIMEM[\"Greenwich\",0],UNIT[\"degree\",0.0174532925199433,AUTHORITY[\"EPSG\",\"9122\"]],AXIS[\"Latitude\",NORTH],AXIS[\"Longitude\",EAST],AUTHORITY[\"EPSG\",\"4326\"]]\n"
     ]
    }
   ],
   "source": [
    "print(\"Check resolution of original raster:\")\n",
    "print(rasterComp.GetGeoTransform())\n",
    "print()\n",
    "print(\"Check other options such as SRS:\")\n",
    "print(rasterComp.GetProjection())"
   ]
  },
  {
   "cell_type": "code",
   "execution_count": 122,
   "metadata": {},
   "outputs": [],
   "source": [
    "#Loaded options such as SRS and resolution\n",
    "options = gdal.WarpOptions(dstSRS='EPSG:4326', xRes=0.0004, yRes=0.0004)\n",
    "\n",
    "#Exports the raster file with new resolution\n",
    "rasterRes = gdal.Warp(\"raster_output.tif\", rasterComp, options=options)"
   ]
  },
  {
   "cell_type": "code",
   "execution_count": 121,
   "metadata": {},
   "outputs": [
    {
     "output_type": "execute_result",
     "data": {
      "text/plain": [
       "(-75.000239819, 0.0003, 0.0, 41.55184467, 0.0, -0.0003)"
      ]
     },
     "metadata": {},
     "execution_count": 121
    }
   ],
   "source": [
    "#Verifies the rescale\n",
    "rasterRes.GetGeoTransform()"
   ]
  },
  {
   "cell_type": "code",
   "execution_count": null,
   "metadata": {},
   "outputs": [],
   "source": []
  }
 ]
}